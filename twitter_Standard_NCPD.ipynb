{
 "cells": [
  {
   "cell_type": "markdown",
   "metadata": {},
   "source": [
    "This notebook contains the Twitter data experiment results where we applied standard NCPD to the video tensor. Due to the non-convexity of the NCPD task, results will vary run to run, so the results from this notebook will not exactly match those in the paper."
   ]
  },
  {
   "cell_type": "code",
   "execution_count": 4,
   "metadata": {},
   "outputs": [],
   "source": [
    "# loading packages and functions\n",
    "import torch\n",
    "import numpy as np\n",
    "from matplotlib import pyplot as plt\n",
    "\n",
    "import torch.nn as nn\n",
    "from torch.autograd import Variable\n",
    "\n",
    "import sys\n",
    "sys.path.insert(1,\"./src\")\n",
    "\n",
    "from NNCPD import outer_product_np\n",
    "\n",
    "import tensorly as tl\n",
    "from tensorly import unfold as tl_unfold\n",
    "from tensorly.decomposition import parafac, non_negative_parafac"
   ]
  },
  {
   "cell_type": "code",
   "execution_count": 6,
   "metadata": {},
   "outputs": [],
   "source": [
    "torch.set_default_tensor_type(torch.DoubleTensor)\n",
    "\n",
    "words = np.load(\"./data/words_100.npy\", allow_pickle=True)\n",
    "X = np.load(\"./data/tweets_bag_100.npy\", allow_pickle=True)\n",
    "\n",
    "X = X.reshape((8, 10, -1))"
   ]
  },
  {
   "cell_type": "markdown",
   "metadata": {},
   "source": [
    "## Rank 4 NCPD"
   ]
  },
  {
   "cell_type": "code",
   "execution_count": 8,
   "metadata": {},
   "outputs": [
    {
     "name": "stdout",
     "output_type": "stream",
     "text": [
      "Reconstruction loss: 7.952349009822536\n",
      "Relative reconstruction loss: 0.8890996483383169\n",
      "\n"
     ]
    }
   ],
   "source": [
    "r=4\n",
    "factors_tl = non_negative_parafac(X, r, init=\"random\", random_state=13)[1]\n",
    "\n",
    "approx = outer_product_np(factors_tl[0], factors_tl[1], factors_tl[2])\n",
    "\n",
    "print(\"Reconstruction loss:\", np.linalg.norm(np.ndarray.flatten(X-approx), 2))\n",
    "print(\"Relative reconstruction loss:\", np.linalg.norm(np.ndarray.flatten(X-approx), 2)  / np.linalg.norm(np.ndarray.flatten(X), 2))\n",
    "print()"
   ]
  },
  {
   "cell_type": "markdown",
   "metadata": {},
   "source": [
    "### Rank 4 Keywords"
   ]
  },
  {
   "cell_type": "code",
   "execution_count": 9,
   "metadata": {},
   "outputs": [
    {
     "name": "stdout",
     "output_type": "stream",
     "text": [
      "\n",
      "RANK 4 KEYWORDS:\n",
      "------------------\n",
      "Topic 1     Topic 2        Topic 3     Topic 4     \n",
      "-------     -------        -------     -------     \n",
      "trump       berniesanders  crooked     tedcruz     \n",
      "hillary     people         hillary     cruz        \n",
      "johnkasich  bernie         thank       ted         \n",
      "ohio        must           marcorubio  internet    \n",
      "kasich      vote           great       choosecruz  \n"
     ]
    }
   ],
   "source": [
    "C = factors_tl[2]\n",
    "\n",
    "keywords = np.empty((7,4), dtype=object)\n",
    "\n",
    "for i in range(keywords.shape[1]):\n",
    "    keywords[0,i] = \"Topic \" + str(i+1)\n",
    "    keywords[1,i] = \"-------\"\n",
    "\n",
    "for i in range(C.shape[1]):\n",
    "    col = C[:,i]\n",
    "    top = col.argsort()\n",
    "    top = top[-5:][::-1]\n",
    "\n",
    "    keywords[2:,i] = words[top]\n",
    "\n",
    "print(\"\")\n",
    "print(\"RANK 4 KEYWORDS:\")  \n",
    "print(\"------------------\")\n",
    "\n",
    "col_widths = [max([len(keywords[i][j]) for i in range(keywords.shape[0])])+2 for j in range(keywords.shape[1])]\n",
    "for row in keywords:\n",
    "    print(\"\".join(row[i].ljust(col_widths[i]) for i in range(len(row))))"
   ]
  },
  {
   "cell_type": "markdown",
   "metadata": {},
   "source": [
    "### Rank 4 Factor Matrices"
   ]
  },
  {
   "cell_type": "code",
   "execution_count": 10,
   "metadata": {},
   "outputs": [
    {
     "data": {
      "image/png": "[encoded data removed]",
      "text/plain": [
       "<Figure size 504x374.4 with 2 Axes>"
      ]
     },
     "metadata": {},
     "output_type": "display_data"
    }
   ],
   "source": [
    "fig, axs = plt.subplots(1, 2, constrained_layout=True, figsize=(7,5.2))\n",
    "\n",
    "#color = \"binary\"\n",
    "color = \"viridis\"\n",
    "plt.sca(axs[0])\n",
    "plt.yticks(range(8), ['Clinton', 'Kaine', 'O\\'Malley', 'Sanders', 'Cruz', 'Kasich', 'Rubio', 'Trump'], fontsize=22)\n",
    "plt.xticks(range(r), range(1,r+1), fontsize=22)\n",
    "plt.sca(axs[1])\n",
    "plt.xticks(range(r), range(1,r+1), fontsize=22)\n",
    "plt.yticks(range(10), ['Feb', 'Mar', 'Apr', 'May', 'Jun', 'Jul', 'Aug', 'Sep', 'Oct', 'Nov'], fontsize=22)\n",
    "\n",
    "axs[0].imshow(factors_tl[0], cmap=plt.get_cmap(color))\n",
    "axs[1].imshow(factors_tl[1], cmap=plt.get_cmap(color))\n",
    "plt.show()"
   ]
  },
  {
   "cell_type": "markdown",
   "metadata": {},
   "source": [
    "## Rank 2 NCPD"
   ]
  },
  {
   "cell_type": "code",
   "execution_count": 13,
   "metadata": {},
   "outputs": [
    {
     "name": "stdout",
     "output_type": "stream",
     "text": [
      "Reconstruction loss: 8.216059894201868\n",
      "Relative reconstruction loss: 0.9185834215322556\n",
      "\n"
     ]
    }
   ],
   "source": [
    "r=2\n",
    "factors_tl = non_negative_parafac(X, r, init=\"random\", random_state=6)[1]\n",
    "\n",
    "approx = outer_product_np(factors_tl[0], factors_tl[1], factors_tl[2])\n",
    "\n",
    "print(\"Reconstruction loss:\", np.linalg.norm(np.ndarray.flatten(X-approx), 2))\n",
    "print(\"Relative reconstruction loss:\", np.linalg.norm(np.ndarray.flatten(X-approx), 2)  / np.linalg.norm(np.ndarray.flatten(X), 2))\n",
    "print()"
   ]
  },
  {
   "cell_type": "markdown",
   "metadata": {},
   "source": [
    "### Rank 2 Keywords"
   ]
  },
  {
   "cell_type": "code",
   "execution_count": 7,
   "metadata": {},
   "outputs": [
    {
     "name": "stdout",
     "output_type": "stream",
     "text": [
      "\n",
      "RANK 2 KEYWORDS:\n",
      "------------------\n",
      "Topic 1  Topic 2     \n",
      "-------  -------     \n",
      "trump    tedcruz     \n",
      "hillary  cruz        \n",
      "vote     ted         \n",
      "people   johnkasich  \n",
      "donald   kasich      \n"
     ]
    }
   ],
   "source": [
    "C = factors_tl[2]\n",
    "\n",
    "keywords = np.empty((7,2), dtype=object)\n",
    "\n",
    "for i in range(keywords.shape[1]):\n",
    "    keywords[0,i] = \"Topic \" + str(i+1)\n",
    "    keywords[1,i] = \"-------\"\n",
    "\n",
    "for i in range(C.shape[1]):\n",
    "    col = C[:,i]\n",
    "    top = col.argsort()\n",
    "    top = top[-5:][::-1]\n",
    "\n",
    "    keywords[2:,i] = words[top]\n",
    "\n",
    "print(\"\")\n",
    "print(\"RANK 2 KEYWORDS:\")  \n",
    "print(\"------------------\")\n",
    "\n",
    "col_widths = [max([len(keywords[i][j]) for i in range(keywords.shape[0])])+2 for j in range(keywords.shape[1])]\n",
    "for row in keywords:\n",
    "    print(\"\".join(row[i].ljust(col_widths[i]) for i in range(len(row))))\n"
   ]
  },
  {
   "cell_type": "markdown",
   "metadata": {},
   "source": [
    "### Rank 2 Factor Matrices"
   ]
  },
  {
   "cell_type": "code",
   "execution_count": 8,
   "metadata": {},
   "outputs": [
    {
     "data": {
      "image/png": "[encoded data removed]",
      "text/plain": [
       "<Figure size 504x374.4 with 2 Axes>"
      ]
     },
     "metadata": {
      "needs_background": "light"
     },
     "output_type": "display_data"
    }
   ],
   "source": [
    "fig, axs = plt.subplots(1, 2, constrained_layout=True, figsize=(7,5.2))\n",
    "\n",
    "#color = \"binary\"\n",
    "color = \"viridis\"\n",
    "plt.sca(axs[0])\n",
    "plt.yticks(range(8), ['Clinton', 'Kaine', 'O\\'Malley', 'Sanders', 'Cruz', 'Kasich', 'Rubio', 'Trump'], fontsize=22)\n",
    "plt.xticks(range(r), range(1,r+1), fontsize=22)\n",
    "plt.sca(axs[1])\n",
    "plt.xticks(range(r), range(1,r+1), fontsize=22)\n",
    "plt.yticks(range(10), ['Feb', 'Mar', 'Apr', 'May', 'Jun', 'Jul', 'Aug', 'Sep', 'Oct', 'Nov'], fontsize=22)\n",
    "\n",
    "axs[0].imshow(factors_tl[0], cmap=plt.get_cmap(color))\n",
    "axs[1].imshow(factors_tl[1], cmap=plt.get_cmap(color))\n",
    "plt.show()"
   ]
  }
 ],
 "metadata": {
  "kernelspec": {
   "display_name": "Python 3",
   "language": "python",
   "name": "python3"
  },
  "language_info": {
   "codemirror_mode": {
    "name": "ipython",
    "version": 3
   },
   "file_extension": ".py",
   "mimetype": "text/x-python",
   "name": "python",
   "nbconvert_exporter": "python",
   "pygments_lexer": "ipython3",
   "version": "3.7.4"
  }
 },
 "nbformat": 4,
 "nbformat_minor": 4
}
