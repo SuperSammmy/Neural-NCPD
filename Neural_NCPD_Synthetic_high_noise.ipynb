{
 "cells": [
  {
   "cell_type": "markdown",
   "metadata": {},
   "source": [
    "## Details\n",
    "\n",
    "The notebook contains the synthetic data experiment with low noise (sigma^2 = 0.05). Due to the non-convexity of the HNCPD task, results will vary run to run, so the results from this notebook will not exactly match those in the paper."
   ]
  },
  {
   "cell_type": "code",
   "execution_count": 1,
   "metadata": {},
   "outputs": [],
   "source": [
    "# loading packages and functions\n",
    "import sys\n",
    "import itertools\n",
    "from utils import *\n",
    "\n",
    "sys.path.append(\"./src\")\n",
    "import torch\n",
    "import numpy as np\n",
    "from matplotlib import pyplot as plt\n",
    "\n",
    "from NNCPD import NNCPD, weights_H, Energy_Loss_Tensor, Recon_Loss, L21_Norm, outer_product, outer_product_np, PTF, random_NNCPD, Fro_Norm\n",
    "from lsqnonneg_module import LsqNonneg\n",
    "from trainNNCPD import train\n",
    "#\n",
    "import torch.nn as nn\n",
    "from torch.autograd import Variable\n",
    "from writer import Writer\n",
    "\n",
    "from sklearn.decomposition import NMF\n",
    "\n",
    "import tensorly as tl\n",
    "from tensorly import unfold as tl_unfold\n",
    "from tensorly.decomposition import parafac, non_negative_parafac"
   ]
  },
  {
   "cell_type": "markdown",
   "metadata": {},
   "source": [
    "## Generate Data Tensor"
   ]
  },
  {
   "cell_type": "code",
   "execution_count": 2,
   "metadata": {},
   "outputs": [],
   "source": [
    "## set the network parameters\n",
    "torch.set_default_tensor_type(torch.DoubleTensor)\n",
    "\n",
    "X = get_synthetic_tensor(seed=14, noise=0.4)"
   ]
  },
  {
   "cell_type": "code",
   "execution_count": 6,
   "metadata": {},
   "outputs": [],
   "source": [
    "X_original = get_synthetic_tensor(noise=0)"
   ]
  },
  {
   "cell_type": "markdown",
   "metadata": {},
   "source": [
    "### Visualize Original Data Tensor"
   ]
  },
  {
   "cell_type": "code",
   "execution_count": 3,
   "metadata": {
    "scrolled": true
   },
   "outputs": [
    {
     "data": {
      "image/png": "[encoded data removed]",
      "text/plain": [
       "<Figure size 864x360 with 3 Axes>"
      ]
     },
     "metadata": {},
     "output_type": "display_data"
    }
   ],
   "source": [
    "display_tensor(X)"
   ]
  },
  {
   "cell_type": "code",
   "execution_count": 9,
   "metadata": {},
   "outputs": [],
   "source": [
    "X = torch.from_numpy(X)\n",
    "X_np = np.asarray(X)"
   ]
  },
  {
   "cell_type": "markdown",
   "metadata": {},
   "source": [
    "## Run Neural NCPD"
   ]
  },
  {
   "cell_type": "code",
   "execution_count": 5,
   "metadata": {
    "scrolled": true
   },
   "outputs": [
    {
     "name": "stderr",
     "output_type": "stream",
     "text": [
      "/home/jvendrow/.local/lib/python3.6/site-packages/torch/nn/_reduction.py:43: UserWarning: size_average and reduce args will be deprecated, please use reduction='sum' instead.\n",
      "  warnings.warn(warning.format(ret))\n"
     ]
    },
    {
     "data": {
      "application/vnd.jupyter.widget-view+json": {
       "model_id": "38e0bcfe59ab4eff96e0f275bfbc1c47"
      }
     },
     "metadata": {},
     "output_type": "display_data"
    },
    {
     "name": "stdout",
     "output_type": "stream",
     "text": [
      "\n"
     ]
    },
    {
     "data": {
      "application/vnd.jupyter.widget-view+json": {
       "model_id": "46a3ed98c9024d099a3e28fea674d97b"
      }
     },
     "metadata": {},
     "output_type": "display_data"
    },
    {
     "name": "stdout",
     "output_type": "stream",
     "text": [
      "\n"
     ]
    },
    {
     "data": {
      "application/vnd.jupyter.widget-view+json": {
       "model_id": "53c340384e844ab79ae41f2d669ab877"
      }
     },
     "metadata": {},
     "output_type": "display_data"
    },
    {
     "name": "stdout",
     "output_type": "stream",
     "text": [
      "\n"
     ]
    },
    {
     "data": {
      "application/vnd.jupyter.widget-view+json": {
       "model_id": "b5ac87997502415d851c2d67f10e5265"
      }
     },
     "metadata": {},
     "output_type": "display_data"
    },
    {
     "name": "stdout",
     "output_type": "stream",
     "text": [
      "\n"
     ]
    },
    {
     "data": {
      "application/vnd.jupyter.widget-view+json": {
       "model_id": "fd4c7f4c1a7745e1aa0b667e8d633ce8"
      }
     },
     "metadata": {},
     "output_type": "display_data"
    },
    {
     "name": "stdout",
     "output_type": "stream",
     "text": [
      "\n"
     ]
    },
    {
     "data": {
      "application/vnd.jupyter.widget-view+json": {
       "model_id": "3b13f8d4c2814a0180dd40f7473b8f47"
      }
     },
     "metadata": {},
     "output_type": "display_data"
    },
    {
     "name": "stdout",
     "output_type": "stream",
     "text": [
      "\n"
     ]
    },
    {
     "data": {
      "application/vnd.jupyter.widget-view+json": {
       "model_id": "1357049e25764b00860c79f56760eabd"
      }
     },
     "metadata": {},
     "output_type": "display_data"
    },
    {
     "name": "stdout",
     "output_type": "stream",
     "text": [
      "\n"
     ]
    },
    {
     "data": {
      "application/vnd.jupyter.widget-view+json": {
       "model_id": "97459b65cc6a4aac887dae3c1613a42a"
      }
     },
     "metadata": {},
     "output_type": "display_data"
    },
    {
     "name": "stdout",
     "output_type": "stream",
     "text": [
      "\n"
     ]
    },
    {
     "data": {
      "application/vnd.jupyter.widget-view+json": {
       "model_id": "52e06563089349beba89debbcf0373cb"
      }
     },
     "metadata": {},
     "output_type": "display_data"
    },
    {
     "name": "stdout",
     "output_type": "stream",
     "text": [
      "\n"
     ]
    },
    {
     "data": {
      "application/vnd.jupyter.widget-view+json": {
       "model_id": "65fff2ce2b9640c2ae619c3d58eb4eac"
      }
     },
     "metadata": {},
     "output_type": "display_data"
    },
    {
     "name": "stdout",
     "output_type": "stream",
     "text": [
      "\n"
     ]
    }
   ],
   "source": [
    "# unsupervised case,one layer\n",
    "r=7\n",
    "n1,n2,n3 = X.shape\n",
    "\n",
    "num_trials = 10\n",
    "histories = []\n",
    "\n",
    "for i in range(num_trials):\n",
    "    \n",
    "    torch.manual_seed(i)\n",
    "\n",
    "    net = NNCPD([n1, 4, 2],[n2, 4, 2],[n3, 4, 2])\n",
    "    loss_func = Energy_Loss_Tensor()\n",
    "    h = train(net, X, loss_func, r, epoch = 7500, lr1 = 0, lr2 = 50)\n",
    "    histories.append(h)\n"
   ]
  },
  {
   "cell_type": "code",
   "execution_count": 10,
   "metadata": {},
   "outputs": [
    {
     "data": {
      "image/png": "[encoded data removed]",
      "text/plain": [
       "<Figure size 432x288 with 1 Axes>"
      ]
     },
     "metadata": {},
     "output_type": "display_data"
    }
   ],
   "source": [
    "# plot the loss curve\n",
    "histories[0].plot_scalar('loss')"
   ]
  },
  {
   "cell_type": "code",
   "execution_count": 11,
   "metadata": {},
   "outputs": [],
   "source": [
    "S_trues = get_synthetic_gt_topics()"
   ]
  },
  {
   "cell_type": "code",
   "execution_count": 12,
   "metadata": {},
   "outputs": [
    {
     "name": "stdout",
     "output_type": "stream",
     "text": [
      "Topic Modeling Loss 7 to 2 (average, best, worst): 0.0870316914580482 0.03349681369449985 0.3606750570744094\n",
      "Topic Modeling Loss 7 to 4 (average, best, worst): 0.08746390190365984 0.03403409599699758 0.29721958867942444\n",
      "Topic Modeling Loss 4 to 2 (average, best, worst): 0.08067261694603298 0.02965444532202688 0.3942359231462281\n",
      "\n",
      "Relative Recon Loss Rank 7 (average, best, worst): 0.2774291903373256 0.2774291903373149 0.27742919033733426\n",
      "Relative Recon Loss Rank 4 (average, best, worst): 0.3257536010491811 0.3136097821832106 0.43503309554226227\n",
      "Relative Recon Loss Rank 2 (average, best, worst): 0.5011643155076325 0.5011593577809417 0.5011748285664029\n"
     ]
    }
   ],
   "source": [
    "all_topic_losses, all_recon_losses = measure_all(histories, X_np, S_trues, kind=\"Neural\")\n",
    "handle_losses(all_recon_losses, all_topic_losses)"
   ]
  },
  {
   "cell_type": "code",
   "execution_count": 13,
   "metadata": {},
   "outputs": [
    {
     "name": "stdout",
     "output_type": "stream",
     "text": [
      "Topic Modeling Loss 7 to 2 (average, best, worst): 0.0870316914580482 0.03349681369449985 0.3606750570744094\n",
      "Topic Modeling Loss 7 to 4 (average, best, worst): 0.08746390190365984 0.03403409599699758 0.29721958867942444\n",
      "Topic Modeling Loss 4 to 2 (average, best, worst): 0.08067261694603298 0.02965444532202688 0.3942359231462281\n",
      "\n",
      "Relative Recon Loss Rank 7 (average, best, worst): 0.45432993797408994 0.454329937974077 0.4543299379741002\n",
      "Relative Recon Loss Rank 4 (average, best, worst): 0.5075737874199813 0.4929677600630872 0.6377774258872035\n",
      "Relative Recon Loss Rank 2 (average, best, worst): 0.7139180969705932 0.7133916204044575 0.7145864213797999\n"
     ]
    }
   ],
   "source": [
    "all_topic_losses, all_recon_losses = measure_all(histories, X_original, S_trues, kind=\"Neural\")\n",
    "\n",
    "handle_losses(all_recon_losses, all_topic_losses)"
   ]
  },
  {
   "cell_type": "code",
   "execution_count": 14,
   "metadata": {},
   "outputs": [],
   "source": [
    "def standard_HNCPD(X, ranks, seed=0):\n",
    "    \n",
    "    np.random.seed(2)\n",
    "    factors_tl = non_negative_parafac(X, ranks[0])\n",
    "    \n",
    "    X_1 =  factors_tl[0]\n",
    "    X_2 =  factors_tl[1]\n",
    "    X_3 =  factors_tl[2]\n",
    "    \n",
    "    factors = [[X_1], [X_2], [X_3]]\n",
    "    \n",
    "    for i in range(1, len(ranks)):\n",
    "        r = ranks[i]\n",
    "        for j in range(3):\n",
    "            model = NMF(n_components=r, init='random', random_state=seed, max_iter=300, solver='mu')\n",
    "            A = model.fit_transform(factors[j][2*i-2])\n",
    "            S = model.components_\n",
    "\n",
    "            factors[j].append(A)\n",
    "            factors[j].append(S)\n",
    "            \n",
    "    return factors"
   ]
  },
  {
   "cell_type": "code",
   "execution_count": 15,
   "metadata": {},
   "outputs": [],
   "source": [
    "all_factors = []\n",
    "for i in range(num_trials):\n",
    "    factors = standard_HNCPD(X_np, [7,4,2], seed=i)\n",
    "    all_factors.append(factors)"
   ]
  },
  {
   "cell_type": "code",
   "execution_count": 16,
   "metadata": {},
   "outputs": [
    {
     "name": "stdout",
     "output_type": "stream",
     "text": [
      "Topic Modeling Loss 7 to 2 (average, best, worst): 0.14537284932010094 0.02899188999856203 0.2746495389008453\n",
      "Topic Modeling Loss 7 to 4 (average, best, worst): 0.19297659518111737 0.042224271170372724 0.31005236045224255\n",
      "Topic Modeling Loss 4 to 2 (average, best, worst): 0.2040519538015505 0.043877446441610034 0.32078403987945087\n",
      "\n",
      "Relative Recon Loss Rank 7 (average, best, worst): 0.2774291903373288 0.2774291903373108 0.2774291903373438\n",
      "Relative Recon Loss Rank 4 (average, best, worst): 0.42807401228868774 0.4074058430428231 0.4600117730144047\n",
      "Relative Recon Loss Rank 2 (average, best, worst): 0.7162493143312865 0.5729056429653906 0.7980806524269276\n"
     ]
    }
   ],
   "source": [
    "all_topic_losses, all_recon_losses = measure_all(all_factors, X_np, S_trues, kind=\"Standard\")\n",
    "handle_losses(all_recon_losses, all_topic_losses)"
   ]
  },
  {
   "cell_type": "code",
   "execution_count": 17,
   "metadata": {},
   "outputs": [
    {
     "name": "stdout",
     "output_type": "stream",
     "text": [
      "Topic Modeling Loss 7 to 2 (average, best, worst): 0.14537284932010094 0.02899188999856203 0.2746495389008453\n",
      "Topic Modeling Loss 7 to 4 (average, best, worst): 0.19297659518111737 0.042224271170372724 0.31005236045224255\n",
      "Topic Modeling Loss 4 to 2 (average, best, worst): 0.2040519538015505 0.043877446441610034 0.32078403987945087\n",
      "\n",
      "Relative Recon Loss Rank 7 (average, best, worst): 0.45432993797409366 0.45432993797407173 0.45432993797411203\n",
      "Relative Recon Loss Rank 4 (average, best, worst): 0.611797391577996 0.5846297844192012 0.6468655065126846\n",
      "Relative Recon Loss Rank 2 (average, best, worst): 0.8920543406648231 0.7435496281173065 0.9905674873168752\n"
     ]
    }
   ],
   "source": [
    "all_topic_losses, all_recon_losses = measure_all(all_factors, X_original, S_trues, kind=\"Standard\")\n",
    "\n",
    "handle_losses(all_recon_losses, all_topic_losses)"
   ]
  },
  {
   "cell_type": "markdown",
   "metadata": {},
   "source": [
    "## Visualization"
   ]
  },
  {
   "cell_type": "code",
   "execution_count": 18,
   "metadata": {},
   "outputs": [],
   "source": [
    "X1 = np.asarray(histories[0].get('A_X1')[-1])\n",
    "X2 = np.asarray(histories[0].get('B_X1')[-1])\n",
    "X3 = np.asarray(histories[0].get('C_X1')[-1])\n",
    "\n",
    "\n",
    "A_A1 = np.asarray(histories[0].get('A_A1')[-1])\n",
    "A_S1 = np.asarray(histories[0].get('A_S1')[-1])\n",
    "B_A1 = np.asarray(histories[0].get('B_A1')[-1])\n",
    "B_S1 = np.asarray(histories[0].get('B_S1')[-1])\n",
    "C_A1 = np.asarray(histories[0].get('C_A1')[-1])\n",
    "C_S1 = np.asarray(histories[0].get('C_S1')[-1])\n",
    "\n",
    "A_A2 = np.asarray(histories[0].get('A_A2')[-1])\n",
    "A_S2 = np.asarray(histories[0].get('A_S2')[-1])\n",
    "B_A2 = np.asarray(histories[0].get('B_A2')[-1])\n",
    "B_S2 = np.asarray(histories[0].get('B_S2')[-1])\n",
    "C_A2 = np.asarray(histories[0].get('C_A2')[-1])\n",
    "C_S2 = np.asarray(histories[0].get('C_S2')[-1])\n"
   ]
  },
  {
   "cell_type": "markdown",
   "metadata": {},
   "source": [
    "### All models, Rank 7"
   ]
  },
  {
   "cell_type": "code",
   "execution_count": 19,
   "metadata": {},
   "outputs": [
    {
     "name": "stdout",
     "output_type": "stream",
     "text": [
      "Relative reconstruction loss: 0.2774291903373317\n"
     ]
    },
    {
     "data": {
      "image/png": "[encoded data removed]",
      "text/plain": [
       "<Figure size 864x360 with 3 Axes>"
      ]
     },
     "metadata": {},
     "output_type": "display_data"
    }
   ],
   "source": [
    "approx = outer_product_np(X1, X2, X3)\n",
    "print(\"Relative reconstruction loss:\", np.linalg.norm(np.ndarray.flatten(X_np-approx), 2)  / np.linalg.norm(np.ndarray.flatten(X_np), 2))\n",
    "display_tensor(approx)"
   ]
  },
  {
   "cell_type": "markdown",
   "metadata": {},
   "source": [
    "### Neural NCPD, Rank 4"
   ]
  },
  {
   "cell_type": "code",
   "execution_count": 20,
   "metadata": {},
   "outputs": [
    {
     "name": "stdout",
     "output_type": "stream",
     "text": [
      "Relative reconstruction loss: 0.3136097821832106\n"
     ]
    },
    {
     "data": {
      "image/png": "[encoded data removed]",
      "text/plain": [
       "<Figure size 864x360 with 3 Axes>"
      ]
     },
     "metadata": {},
     "output_type": "display_data"
    }
   ],
   "source": [
    "approx = outer_product_np(A_A1 @ A_S1, B_A1 @ B_S1, C_A1 @ C_S1)\n",
    "print(\"Relative reconstruction loss:\", np.linalg.norm(np.ndarray.flatten(X_np-approx), 2)  / np.linalg.norm(np.ndarray.flatten(X_np), 2))\n",
    "display_tensor(approx)"
   ]
  },
  {
   "cell_type": "markdown",
   "metadata": {},
   "source": [
    "### Neural NCPD, Rank 2"
   ]
  },
  {
   "cell_type": "code",
   "execution_count": 21,
   "metadata": {},
   "outputs": [
    {
     "name": "stdout",
     "output_type": "stream",
     "text": [
      "Relative reconstruction loss: 0.5011680801673786\n"
     ]
    },
    {
     "data": {
      "image/png": "[encoded data removed]",
      "text/plain": [
       "<Figure size 864x360 with 3 Axes>"
      ]
     },
     "metadata": {},
     "output_type": "display_data"
    }
   ],
   "source": [
    "approx = outer_product_np(A_A1 @ A_A2 @ A_S2, B_A1 @ B_A2 @ B_S2, C_A1 @ C_A2 @ C_S2)\n",
    "print(\"Relative reconstruction loss:\", np.linalg.norm(np.ndarray.flatten(X_np-approx), 2)  / np.linalg.norm(np.ndarray.flatten(X_np), 2))\n",
    "display_tensor(approx)"
   ]
  },
  {
   "cell_type": "code",
   "execution_count": 22,
   "metadata": {},
   "outputs": [
    {
     "data": {
      "image/png": "[encoded data removed]",
      "text/plain": [
       "<Figure size 576x360 with 6 Axes>"
      ]
     },
     "metadata": {},
     "output_type": "display_data"
    }
   ],
   "source": [
    "display_topic_matrices([A_S2.T, A_S1.T, A_A2], S_trues)"
   ]
  },
  {
   "cell_type": "markdown",
   "metadata": {},
   "source": [
    "### Standard HNCPD, Rank 4"
   ]
  },
  {
   "cell_type": "code",
   "execution_count": 23,
   "metadata": {},
   "outputs": [
    {
     "name": "stdout",
     "output_type": "stream",
     "text": [
      "Relative reconstruction loss: 0.4600117730144047\n"
     ]
    },
    {
     "data": {
      "image/png": "[encoded data removed]",
      "text/plain": [
       "<Figure size 864x360 with 3 Axes>"
      ]
     },
     "metadata": {},
     "output_type": "display_data"
    }
   ],
   "source": [
    "X1, A_A1, A_S1, A_A2, A_S2 = all_factors[1][0]\n",
    "X2, B_A1, B_S1, B_A2, B_S2 = all_factors[1][1]\n",
    "X3, C_A1, C_S1, C_A2, C_S2 = all_factors[1][2]\n",
    "\n",
    "approx = outer_product_np(A_A1 @ A_S1, B_A1 @ B_S1, C_A1 @ C_S1)\n",
    "print(\"Relative reconstruction loss:\", np.linalg.norm(np.ndarray.flatten(X_np-approx), 2)  / np.linalg.norm(np.ndarray.flatten(X_np), 2))\n",
    "display_tensor(approx)"
   ]
  },
  {
   "cell_type": "markdown",
   "metadata": {},
   "source": [
    "### Standard HNCPD, Rank 2"
   ]
  },
  {
   "cell_type": "code",
   "execution_count": 24,
   "metadata": {},
   "outputs": [
    {
     "name": "stdout",
     "output_type": "stream",
     "text": [
      "Relative reconstruction loss: 0.7980806524269276\n"
     ]
    },
    {
     "data": {
      "image/png": "[encoded data removed]",
      "text/plain": [
       "<Figure size 864x360 with 3 Axes>"
      ]
     },
     "metadata": {},
     "output_type": "display_data"
    }
   ],
   "source": [
    "approx = outer_product_np(A_A1 @ A_A2 @ A_S2, B_A1 @ B_A2 @ B_S2, C_A1 @ C_A2 @ C_S2)\n",
    "print(\"Relative reconstruction loss:\", np.linalg.norm(np.ndarray.flatten(X_np-approx), 2)  / np.linalg.norm(np.ndarray.flatten(X_np), 2))\n",
    "display_tensor(approx)"
   ]
  },
  {
   "cell_type": "code",
   "execution_count": 25,
   "metadata": {},
   "outputs": [
    {
     "data": {
      "image/png": "[encoded data removed]",
      "text/plain": [
       "<Figure size 576x360 with 6 Axes>"
      ]
     },
     "metadata": {},
     "output_type": "display_data"
    }
   ],
   "source": [
    "display_topic_matrices([A_S2.T, A_S1.T, A_A2], S_trues)"
   ]
  }
 ],
 "metadata": {
  "kernelspec": {
   "display_name": "Python 3",
   "language": "python",
   "name": "python3"
  },
  "language_info": {
   "codemirror_mode": {
    "name": "ipython",
    "version": 3
   },
   "file_extension": ".py",
   "mimetype": "text/x-python",
   "name": "python",
   "nbconvert_exporter": "python",
   "pygments_lexer": "ipython3",
   "version": "3.7.4"
  }
 },
 "nbformat": 4,
 "nbformat_minor": 4
}
