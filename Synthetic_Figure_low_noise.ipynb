{
 "cells": [
  {
   "cell_type": "markdown",
   "metadata": {},
   "source": [
    "## Details\n",
    "\n",
    "The notebook contains the synthetic data experiment with low noise (sigma^2 = 0.05). Due to the non-convexity of the HNCPD task, results will vary run to run, so the results from this notebook will not exactly match those in the paper."
   ]
  },
  {
   "cell_type": "code",
   "execution_count": 1,
   "metadata": {},
   "outputs": [],
   "source": [
    "# loading packages and functions\n",
    "import sys\n",
    "\n",
    "sys.path.append(\"./src\")\n",
    "import torch\n",
    "import numpy as np\n",
    "from matplotlib import pyplot as plt\n",
    "\n",
    "from NNCPD import NNCPD, weights_H, Energy_Loss_Tensor, Recon_Loss, L21_Norm, outer_product, outer_product_np, PTF, random_NNCPD, Fro_Norm\n",
    "from lsqnonneg_module import LsqNonneg\n",
    "from trainNNCPD import train\n",
    "#\n",
    "import torch.nn as nn\n",
    "from torch.autograd import Variable\n",
    "from writer import Writer\n",
    "\n",
    "from sklearn.decomposition import NMF\n",
    "\n",
    "import tensorly as tl\n",
    "from tensorly import unfold as tl_unfold\n",
    "from tensorly.decomposition import parafac, non_negative_parafac"
   ]
  },
  {
   "cell_type": "markdown",
   "metadata": {},
   "source": [
    "## Generate Data Tensor"
   ]
  },
  {
   "cell_type": "code",
   "execution_count": 2,
   "metadata": {},
   "outputs": [],
   "source": [
    "## set the network parameters\n",
    "torch.set_default_tensor_type(torch.DoubleTensor)\n",
    "\n",
    "\n",
    "n1 = 40\n",
    "n2 = 40\n",
    "n3 = 40\n",
    "\n",
    "r = 12\n",
    "\n",
    "\n",
    "a = 1\n",
    "b = 3\n",
    "\n",
    "X = np.zeros((40,40,40))\n",
    "\n",
    "\n",
    "X[0:10,0:15,0:15] = a * np.ones((10,15,15))\n",
    "X[10:25,15:25,15:30] = a * np.ones((15,10,15))\n",
    "X[25:40,25:40,30:40] = a * np.ones((15,15,10))\n",
    "\n",
    "X[0:5,0:10,0:5] = b\n",
    "X[5:10,10:15,5:15] = b\n",
    "\n",
    "X[10:15,15:18,15:20] = b\n",
    "X[15:20,18:23,20:25] = b\n",
    "X[20:25,23:25,25:30] = b\n",
    "\n",
    "X[25:30,25:35,30:35] = b\n",
    "X[30:40,35:40,35:40] = b\n",
    "\n",
    "#add Gaussian Noise\n",
    "np.random.seed(1)\n",
    "X = X + 0.05 * np.abs(np.random.randn(40, 40, 40))"
   ]
  },
  {
   "cell_type": "code",
   "execution_count": 3,
   "metadata": {},
   "outputs": [],
   "source": [
    "#set a consistent vmin and vmax for visualization\n",
    "vmin=0\n",
    "vmax=3"
   ]
  },
  {
   "cell_type": "markdown",
   "metadata": {},
   "source": [
    "### Visualize Original Data Tensor"
   ]
  },
  {
   "cell_type": "code",
   "execution_count": 4,
   "metadata": {
    "scrolled": true
   },
   "outputs": [
    {
     "data": {
      "image/png": "[encoded data removed]",
      "text/plain": [
       "<Figure size 864x360 with 3 Axes>"
      ]
     },
     "metadata": {},
     "output_type": "display_data"
    }
   ],
   "source": [
    "fig, axs = plt.subplots(1, 3, constrained_layout=True, figsize=(12,5))\n",
    "axs[0].axes.get_xaxis().set_ticks([])\n",
    "axs[0].axes.get_yaxis().set_ticks([])\n",
    "axs[1].axes.get_xaxis().set_ticks([])\n",
    "axs[1].axes.get_yaxis().set_ticks([])\n",
    "axs[2].axes.get_xaxis().set_ticks([])\n",
    "axs[2].axes.get_yaxis().set_ticks([])\n",
    "color = \"viridis\"\n",
    "X_max = np.max(X,axis=0)\n",
    "axs[0].imshow(X_max, cmap=plt.get_cmap(color), vmin=vmin, vmax=vmax)\n",
    "X_max = np.max(X,axis=1)\n",
    "axs[1].imshow(X_max, cmap=plt.get_cmap(color), vmin=vmin, vmax=vmax)\n",
    "X_max = np.max(X,axis=2)\n",
    "axs[2].imshow(X_max, cmap=plt.get_cmap(color), vmin=vmin, vmax=vmax)\n",
    "plt.show()"
   ]
  },
  {
   "cell_type": "code",
   "execution_count": 5,
   "metadata": {},
   "outputs": [],
   "source": [
    "X = torch.from_numpy(X)\n",
    "X_np = np.asarray(X)"
   ]
  },
  {
   "cell_type": "markdown",
   "metadata": {},
   "source": [
    "## Run Neural NCPD"
   ]
  },
  {
   "cell_type": "code",
   "execution_count": 6,
   "metadata": {
    "scrolled": true
   },
   "outputs": [
    {
     "name": "stderr",
     "output_type": "stream",
     "text": [
      "/home/jvendrow/.local/lib/python3.6/site-packages/torch/nn/_reduction.py:43: UserWarning: size_average and reduce args will be deprecated, please use reduction='sum' instead.\n",
      "  warnings.warn(warning.format(ret))\n"
     ]
    },
    {
     "data": {
      "application/vnd.jupyter.widget-view+json": {
       "model_id": "4befea00b6574ebba0d51b248245ab7b"
      }
     },
     "metadata": {},
     "output_type": "display_data"
    },
    {
     "name": "stdout",
     "output_type": "stream",
     "text": [
      "\n"
     ]
    }
   ],
   "source": [
    "# unsupervised case,one layer\n",
    "r=7\n",
    "n1,n2,n3 = X.shape\n",
    "net = NNCPD([n1, 5, 3],[n2, 5, 3],[n3, 5, 3])\n",
    "\n",
    "loss_func = Energy_Loss_Tensor()\n",
    "\n",
    "history_unsupervised = train(net, X, loss_func, r, epoch = 10000, lr1 = 0, lr2 = 50)\n"
   ]
  },
  {
   "cell_type": "code",
   "execution_count": 7,
   "metadata": {},
   "outputs": [
    {
     "data": {
      "image/png": "[encoded data removed]",
      "text/plain": [
       "<Figure size 432x288 with 1 Axes>"
      ]
     },
     "metadata": {},
     "output_type": "display_data"
    }
   ],
   "source": [
    "# plot the loss curve\n",
    "history_unsupervised.plot_scalar('loss')"
   ]
  },
  {
   "cell_type": "code",
   "execution_count": 8,
   "metadata": {},
   "outputs": [],
   "source": [
    "X1 = history_unsupervised.get('A_X1')[-1]\n",
    "X2 = history_unsupervised.get('B_X1')[-1]\n",
    "X3 = history_unsupervised.get('C_X1')[-1]\n",
    "\n",
    "\n",
    "A_A1 = history_unsupervised.get('A_A1')[-1]\n",
    "A_S1 = history_unsupervised.get('A_S1')[-1]\n",
    "B_A1 = history_unsupervised.get('B_A1')[-1]\n",
    "B_S1 = history_unsupervised.get('B_S1')[-1]\n",
    "C_A1 = history_unsupervised.get('C_A1')[-1]\n",
    "C_S1 = history_unsupervised.get('C_S1')[-1]\n",
    "\n",
    "A_A2 = history_unsupervised.get('A_A2')[-1]\n",
    "A_S2 = history_unsupervised.get('A_S2')[-1]\n",
    "B_A2 = history_unsupervised.get('B_A2')[-1]\n",
    "B_S2 = history_unsupervised.get('B_S2')[-1]\n",
    "C_A2 = history_unsupervised.get('C_A2')[-1]\n",
    "C_S2 = history_unsupervised.get('C_S2')[-1]\n"
   ]
  },
  {
   "cell_type": "markdown",
   "metadata": {},
   "source": [
    "### Visualize S Matrices\n",
    "\n",
    "Note that these S matrices will not look as nice as the S matrices in the paper. This is because the order of topics in NCPD is arbitrary, so to get a \"nice\" S matrix one needs to reorder the topics"
   ]
  },
  {
   "cell_type": "code",
   "execution_count": 9,
   "metadata": {},
   "outputs": [
    {
     "data": {
      "text/plain": [
       "<matplotlib.image.AxesImage at 0x7fc9944084a8>"
      ]
     },
     "execution_count": 9,
     "metadata": {},
     "output_type": "execute_result"
    },
    {
     "data": {
      "image/png": "[encoded data removed]",
      "text/plain": [
       "<Figure size 432x288 with 1 Axes>"
      ]
     },
     "metadata": {},
     "output_type": "display_data"
    }
   ],
   "source": [
    "plt.xticks([], [])\n",
    "plt.yticks([], [])\n",
    "plt.imshow((C_S1 / torch.mean(C_S1, axis=0)).T)"
   ]
  },
  {
   "cell_type": "code",
   "execution_count": 10,
   "metadata": {},
   "outputs": [
    {
     "data": {
      "text/plain": [
       "<matplotlib.image.AxesImage at 0x7fc9943d9240>"
      ]
     },
     "execution_count": 10,
     "metadata": {},
     "output_type": "execute_result"
    },
    {
     "data": {
      "image/png": "[encoded data removed]",
      "text/plain": [
       "<Figure size 432x288 with 1 Axes>"
      ]
     },
     "metadata": {},
     "output_type": "display_data"
    }
   ],
   "source": [
    "plt.xticks([], [])\n",
    "plt.yticks([], [])\n",
    "plt.imshow((C_S2 / torch.mean(C_S2, axis=0)).T)"
   ]
  },
  {
   "cell_type": "markdown",
   "metadata": {},
   "source": [
    "### Rank 7 Approximation (for both Neural NCPD and Standard HNCPD)"
   ]
  },
  {
   "cell_type": "code",
   "execution_count": 11,
   "metadata": {},
   "outputs": [
    {
     "name": "stdout",
     "output_type": "stream",
     "text": [
      "Reconstruction loss: 12.015365937320105\n",
      "Relative reconstruction loss: 0.09044921085441056\n"
     ]
    },
    {
     "data": {
      "image/png": "[encoded data removed]",
      "text/plain": [
       "<Figure size 864x360 with 3 Axes>"
      ]
     },
     "metadata": {},
     "output_type": "display_data"
    }
   ],
   "source": [
    "approx = outer_product(X1, X2, X3).numpy()\n",
    "print(\"Reconstruction loss:\", np.linalg.norm(np.ndarray.flatten(X_np-approx), 2))\n",
    "print(\"Relative reconstruction loss:\", np.linalg.norm(np.ndarray.flatten(X_np-approx), 2)  / np.linalg.norm(np.ndarray.flatten(X_np), 2))\n",
    "\n",
    "fig, axs = plt.subplots(1, 3, constrained_layout=True, figsize=(12,5))\n",
    "axs[0].axes.get_xaxis().set_ticks([])\n",
    "axs[0].axes.get_yaxis().set_ticks([])\n",
    "axs[1].axes.get_xaxis().set_ticks([])\n",
    "axs[1].axes.get_yaxis().set_ticks([])\n",
    "axs[2].axes.get_xaxis().set_ticks([])\n",
    "axs[2].axes.get_yaxis().set_ticks([])\n",
    "X_max = np.max(approx,axis=0)\n",
    "axs[0].imshow(X_max, vmin=vmin, vmax=vmax)\n",
    "X_max = np.max(approx,axis=1)\n",
    "axs[1].imshow(X_max, vmin=vmin, vmax=vmax)\n",
    "X_max = np.max(approx,axis=2)\n",
    "axs[2].imshow(X_max, vmin=vmin, vmax=vmax)\n",
    "plt.show()"
   ]
  },
  {
   "cell_type": "markdown",
   "metadata": {},
   "source": [
    "### Rank 5 Approximation for Neural NCPD"
   ]
  },
  {
   "cell_type": "code",
   "execution_count": 12,
   "metadata": {},
   "outputs": [
    {
     "name": "stdout",
     "output_type": "stream",
     "text": [
      "Reconstruction loss: 30.474334998624315\n",
      "Relative reconstruction loss: 0.2294045446736759\n"
     ]
    },
    {
     "data": {
      "image/png": "[encoded data removed]",
      "text/plain": [
       "<Figure size 864x360 with 3 Axes>"
      ]
     },
     "metadata": {},
     "output_type": "display_data"
    }
   ],
   "source": [
    "approx = outer_product(torch.mm(A_A1,A_S1), torch.mm(B_A1,B_S1), torch.mm(C_A1,C_S1)).numpy()\n",
    "\n",
    "print(\"Reconstruction loss:\", np.linalg.norm(np.ndarray.flatten(X_np-approx), 2))\n",
    "print(\"Relative reconstruction loss:\", np.linalg.norm(np.ndarray.flatten(X_np-approx), 2)  / np.linalg.norm(np.ndarray.flatten(X_np), 2))\n",
    "\n",
    "\n",
    "fig, axs = plt.subplots(1, 3, constrained_layout=True, figsize=(12,5))\n",
    "axs[0].axes.get_xaxis().set_ticks([])\n",
    "axs[0].axes.get_yaxis().set_ticks([])\n",
    "axs[1].axes.get_xaxis().set_ticks([])\n",
    "axs[1].axes.get_yaxis().set_ticks([])\n",
    "axs[2].axes.get_xaxis().set_ticks([])\n",
    "axs[2].axes.get_yaxis().set_ticks([])\n",
    "X_max = np.max(approx,axis=0)\n",
    "axs[0].imshow(X_max, vmin=vmin, vmax=vmax)\n",
    "X_max = np.max(approx,axis=1)\n",
    "axs[1].imshow(X_max, vmin=vmin, vmax=vmax)\n",
    "X_max = np.max(approx,axis=2)\n",
    "axs[2].imshow(X_max, vmin=vmin, vmax=vmax)\n",
    "\n",
    "plt.show()"
   ]
  },
  {
   "cell_type": "markdown",
   "metadata": {},
   "source": [
    "### Rank 3 Approximation for Neural NCPD"
   ]
  },
  {
   "cell_type": "code",
   "execution_count": 13,
   "metadata": {},
   "outputs": [
    {
     "name": "stdout",
     "output_type": "stream",
     "text": [
      "Reconstruction loss: 62.09267763486261\n",
      "Relative reconstruction loss: 0.4674209442482673\n"
     ]
    },
    {
     "data": {
      "image/png": "[encoded data removed]",
      "text/plain": [
       "<Figure size 864x360 with 3 Axes>"
      ]
     },
     "metadata": {},
     "output_type": "display_data"
    }
   ],
   "source": [
    "approx = outer_product(torch.mm(A_A1, torch.mm(A_A2,A_S2)), torch.mm(B_A1, torch.mm(B_A2,B_S2)), torch.mm(C_A1, torch.mm(C_A2,C_S2))).numpy()\n",
    "\n",
    "\n",
    "print(\"Reconstruction loss:\", np.linalg.norm(np.ndarray.flatten(X_np-approx), 2))\n",
    "print(\"Relative reconstruction loss:\", np.linalg.norm(np.ndarray.flatten(X_np-approx), 2)  / np.linalg.norm(np.ndarray.flatten(X_np), 2))\n",
    "\n",
    "fig, axs = plt.subplots(1, 3, constrained_layout=True, figsize=(12,5))\n",
    "axs[0].axes.get_xaxis().set_ticks([])\n",
    "axs[0].axes.get_yaxis().set_ticks([])\n",
    "axs[1].axes.get_xaxis().set_ticks([])\n",
    "axs[1].axes.get_yaxis().set_ticks([])\n",
    "axs[2].axes.get_xaxis().set_ticks([])\n",
    "axs[2].axes.get_yaxis().set_ticks([])\n",
    "X_max = np.max(approx,axis=0)\n",
    "axs[0].imshow(X_max, vmin=vmin, vmax=vmax)\n",
    "X_max = np.max(approx,axis=1)\n",
    "axs[1].imshow(X_max, vmin=vmin, vmax=vmax)\n",
    "X_max = np.max(approx,axis=2)\n",
    "axs[2].imshow(X_max, vmin=vmin, vmax=vmax)\n",
    "\n",
    "plt.show()"
   ]
  },
  {
   "cell_type": "markdown",
   "metadata": {},
   "source": [
    "## Standard HNCPD"
   ]
  },
  {
   "cell_type": "code",
   "execution_count": 15,
   "metadata": {},
   "outputs": [],
   "source": [
    "#rank 7 (same as Neural NNCPD)\n",
    "X_np = np.asarray(X)\n",
    "r=7\n",
    "factors_tl = non_negative_parafac(X_np, r)[1]\n",
    "\n",
    "X_1 =  factors_tl[0]\n",
    "X_2 =  factors_tl[1]\n",
    "X_3 =  factors_tl[2]"
   ]
  },
  {
   "cell_type": "markdown",
   "metadata": {},
   "source": [
    "### Rank 5 (for HNCPD)"
   ]
  },
  {
   "cell_type": "code",
   "execution_count": 16,
   "metadata": {},
   "outputs": [
    {
     "name": "stdout",
     "output_type": "stream",
     "text": [
      "69.83321370690754\n",
      "0.5256901124915707\n"
     ]
    },
    {
     "data": {
      "image/png": "[encoded data removed]",
      "text/plain": [
       "<Figure size 864x360 with 3 Axes>"
      ]
     },
     "metadata": {},
     "output_type": "display_data"
    }
   ],
   "source": [
    "model = NMF(n_components=5, init='random', random_state=0)\n",
    "A_1_0 = model.fit_transform(X_1)\n",
    "S_1_1 = model.components_\n",
    "\n",
    "model = NMF(n_components=5, init='random', random_state=0)\n",
    "A_2_0 = model.fit_transform(X_2)\n",
    "S_2_1 = model.components_\n",
    "\n",
    "model = NMF(n_components=5, init='random', random_state=0)\n",
    "A_3_0 = model.fit_transform(X_3)\n",
    "S_3_1 = model.components_\n",
    "\n",
    "X_approx_5 = outer_product_np(A_1_0 @ S_1_1, A_2_0 @ S_2_1, A_3_0 @ S_3_1)\n",
    "\n",
    "print(np.linalg.norm(np.ndarray.flatten(X_np-X_approx_5), 2))\n",
    "print(np.linalg.norm(np.ndarray.flatten(X_np-X_approx_5), 2)  / np.linalg.norm(np.ndarray.flatten(X_np), 2))\n",
    "\n",
    "fig, ax = plt.subplots(1, 3, constrained_layout=True, figsize=(12,5))\n",
    "ax[0].axes.get_xaxis().set_ticks([])\n",
    "ax[0].axes.get_yaxis().set_ticks([])\n",
    "ax[1].axes.get_xaxis().set_ticks([])\n",
    "ax[1].axes.get_yaxis().set_ticks([])\n",
    "ax[2].axes.get_xaxis().set_ticks([])\n",
    "ax[2].axes.get_yaxis().set_ticks([])\n",
    "X_max = np.max(X_approx_5,axis=0)\n",
    "ax[0].imshow(X_max, vmin=vmin, vmax=vmax)\n",
    "X_max = np.max(X_approx_5,axis=1)\n",
    "ax[1].imshow(X_max, vmin=vmin, vmax=vmax)\n",
    "X_max = np.max(X_approx_5,axis=2)\n",
    "ax[2].imshow(X_max, vmin=vmin, vmax=vmax)\n",
    "\n",
    "plt.show()"
   ]
  },
  {
   "cell_type": "markdown",
   "metadata": {},
   "source": [
    "### Rank 3 (for HNCPD)"
   ]
  },
  {
   "cell_type": "code",
   "execution_count": 17,
   "metadata": {},
   "outputs": [
    {
     "name": "stdout",
     "output_type": "stream",
     "text": [
      "88.49126581829329\n",
      "0.6661441026870379\n"
     ]
    },
    {
     "data": {
      "image/png": "[encoded data removed]",
      "text/plain": [
       "<Figure size 864x360 with 3 Axes>"
      ]
     },
     "metadata": {},
     "output_type": "display_data"
    }
   ],
   "source": [
    "model = NMF(n_components=3, init='random', random_state=0)\n",
    "A_1_1 = model.fit_transform(S_1_1)\n",
    "S_1_2 = model.components_\n",
    "\n",
    "model = NMF(n_components=3, init='random', random_state=0)\n",
    "A_2_1 = model.fit_transform(S_2_1)\n",
    "S_2_2 = model.components_\n",
    "\n",
    "model = NMF(n_components=3, init='random', random_state=0)\n",
    "A_3_1 = model.fit_transform(S_3_1)\n",
    "S_3_2 = model.components_\n",
    "\n",
    "X_approx_3 = outer_product_np(A_1_0 @ A_1_1 @ S_1_2, A_2_0 @ A_2_1 @ S_2_2, A_3_0 @ A_3_1 @ S_3_2)\n",
    "\n",
    "print(np.linalg.norm(np.ndarray.flatten(X_np-X_approx_3), 2))\n",
    "print(np.linalg.norm(np.ndarray.flatten(X_np-X_approx_3), 2) / np.linalg.norm(np.ndarray.flatten(X_np), 2))\n",
    "\n",
    "\n",
    "fig, ax = plt.subplots(1, 3, constrained_layout=True, figsize=(12,5))\n",
    "ax[0].axes.get_xaxis().set_ticks([])\n",
    "ax[0].axes.get_yaxis().set_ticks([])\n",
    "ax[1].axes.get_xaxis().set_ticks([])\n",
    "ax[1].axes.get_yaxis().set_ticks([])\n",
    "ax[2].axes.get_xaxis().set_ticks([])\n",
    "ax[2].axes.get_yaxis().set_ticks([])\n",
    "X_max = np.max(X_approx_3,axis=0)\n",
    "ax[0].imshow(X_max, vmin=vmin, vmax=vmax)\n",
    "X_max = np.max(X_approx_3,axis=1)\n",
    "ax[1].imshow(X_max, vmin=vmin, vmax=vmax)\n",
    "X_max = np.max(X_approx_3,axis=2)\n",
    "ax[2].imshow(X_max, vmin=vmin, vmax=vmax)\n",
    "\n",
    "plt.show()"
   ]
  }
 ],
 "metadata": {
  "kernelspec": {
   "display_name": "Python 3",
   "language": "python",
   "name": "python3"
  },
  "language_info": {
   "codemirror_mode": {
    "name": "ipython",
    "version": 3
   },
   "file_extension": ".py",
   "mimetype": "text/x-python",
   "name": "python",
   "nbconvert_exporter": "python",
   "pygments_lexer": "ipython3",
   "version": "3.6.9"
  }
 },
 "nbformat": 4,
 "nbformat_minor": 4
}
