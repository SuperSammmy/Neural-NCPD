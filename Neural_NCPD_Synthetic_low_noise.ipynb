{
 "cells": [
  {
   "cell_type": "markdown",
   "metadata": {},
   "source": [
    "## Details\n",
    "\n",
    "The notebook contains the synthetic data experiment with low noise (sigma^2 = 0.05). Due to the non-convexity of the HNCPD task, results will vary run to run, so the results from this notebook will not exactly match those in the paper."
   ]
  },
  {
   "cell_type": "code",
   "execution_count": 1,
   "metadata": {},
   "outputs": [],
   "source": [
    "# loading packages and functions\n",
    "import sys\n",
    "import itertools\n",
    "from utils import *\n",
    "\n",
    "sys.path.append(\"./src\")\n",
    "import torch\n",
    "import numpy as np\n",
    "from matplotlib import pyplot as plt\n",
    "\n",
    "from NNCPD import NNCPD, weights_H, Energy_Loss_Tensor, Recon_Loss, L21_Norm, outer_product, outer_product_np, PTF, random_NNCPD, Fro_Norm\n",
    "from lsqnonneg_module import LsqNonneg\n",
    "from trainNNCPD import train\n",
    "#\n",
    "import torch.nn as nn\n",
    "from torch.autograd import Variable\n",
    "from writer import Writer\n",
    "\n",
    "from sklearn.decomposition import NMF\n",
    "\n",
    "import tensorly as tl\n",
    "from tensorly import unfold as tl_unfold\n",
    "from tensorly.decomposition import parafac, non_negative_parafac"
   ]
  },
  {
   "cell_type": "markdown",
   "metadata": {},
   "source": [
    "## Generate Data Tensor"
   ]
  },
  {
   "cell_type": "code",
   "execution_count": 2,
   "metadata": {},
   "outputs": [],
   "source": [
    "## set the network parameters\n",
    "torch.set_default_tensor_type(torch.DoubleTensor)\n",
    "\n",
    "X = get_synthetic_tensor()"
   ]
  },
  {
   "cell_type": "code",
   "execution_count": 20,
   "metadata": {},
   "outputs": [],
   "source": [
    "X_original = get_synthetic_tensor(noise=0)"
   ]
  },
  {
   "cell_type": "markdown",
   "metadata": {},
   "source": [
    "### Visualize Original Data Tensor"
   ]
  },
  {
   "cell_type": "code",
   "execution_count": 3,
   "metadata": {
    "scrolled": true
   },
   "outputs": [
    {
     "data": {
      "image/png": "[encoded data removed]",
      "text/plain": [
       "<Figure size 864x360 with 3 Axes>"
      ]
     },
     "metadata": {},
     "output_type": "display_data"
    }
   ],
   "source": [
    "display_tensor(X)"
   ]
  },
  {
   "cell_type": "code",
   "execution_count": 4,
   "metadata": {},
   "outputs": [],
   "source": [
    "X = torch.from_numpy(X)\n",
    "X_np = np.asarray(X)"
   ]
  },
  {
   "cell_type": "markdown",
   "metadata": {},
   "source": [
    "## Run Neural NCPD"
   ]
  },
  {
   "cell_type": "code",
   "execution_count": 5,
   "metadata": {
    "scrolled": true
   },
   "outputs": [
    {
     "name": "stderr",
     "output_type": "stream",
     "text": [
      "/home/jvendrow/.local/lib/python3.6/site-packages/torch/nn/_reduction.py:43: UserWarning: size_average and reduce args will be deprecated, please use reduction='sum' instead.\n",
      "  warnings.warn(warning.format(ret))\n"
     ]
    },
    {
     "data": {
      "application/vnd.jupyter.widget-view+json": {
       "model_id": "c079509aed9540a5bd33024c9873a866"
      }
     },
     "metadata": {},
     "output_type": "display_data"
    },
    {
     "name": "stdout",
     "output_type": "stream",
     "text": [
      "\n"
     ]
    },
    {
     "data": {
      "application/vnd.jupyter.widget-view+json": {
       "model_id": "d4f1ccd8245b4a899f18e41b4f6859fd"
      }
     },
     "metadata": {},
     "output_type": "display_data"
    },
    {
     "name": "stdout",
     "output_type": "stream",
     "text": [
      "\n"
     ]
    },
    {
     "data": {
      "application/vnd.jupyter.widget-view+json": {
       "model_id": "dd87f73f816444b997c98a9315c72e6d"
      }
     },
     "metadata": {},
     "output_type": "display_data"
    },
    {
     "name": "stdout",
     "output_type": "stream",
     "text": [
      "\n"
     ]
    },
    {
     "data": {
      "application/vnd.jupyter.widget-view+json": {
       "model_id": "0c7a67dd16bf4df79b381fed24e763f4"
      }
     },
     "metadata": {},
     "output_type": "display_data"
    },
    {
     "name": "stdout",
     "output_type": "stream",
     "text": [
      "\n"
     ]
    },
    {
     "data": {
      "application/vnd.jupyter.widget-view+json": {
       "model_id": "3167f62203164745a71b6cca9b4164fe"
      }
     },
     "metadata": {},
     "output_type": "display_data"
    },
    {
     "name": "stdout",
     "output_type": "stream",
     "text": [
      "\n"
     ]
    },
    {
     "data": {
      "application/vnd.jupyter.widget-view+json": {
       "model_id": "e5d2bb3c8bd84e929d6840de3970350b"
      }
     },
     "metadata": {},
     "output_type": "display_data"
    },
    {
     "name": "stdout",
     "output_type": "stream",
     "text": [
      "\n"
     ]
    },
    {
     "data": {
      "application/vnd.jupyter.widget-view+json": {
       "model_id": "d8c74656968948689b97fe6df3300668"
      }
     },
     "metadata": {},
     "output_type": "display_data"
    },
    {
     "name": "stdout",
     "output_type": "stream",
     "text": [
      "\n"
     ]
    },
    {
     "data": {
      "application/vnd.jupyter.widget-view+json": {
       "model_id": "e9ef0bcbf3b44c3789d80e1588a5b5b0"
      }
     },
     "metadata": {},
     "output_type": "display_data"
    },
    {
     "name": "stdout",
     "output_type": "stream",
     "text": [
      "\n"
     ]
    },
    {
     "data": {
      "application/vnd.jupyter.widget-view+json": {
       "model_id": "5cf6415ad96a41c2972130fcf761284a"
      }
     },
     "metadata": {},
     "output_type": "display_data"
    },
    {
     "name": "stdout",
     "output_type": "stream",
     "text": [
      "\n"
     ]
    },
    {
     "data": {
      "application/vnd.jupyter.widget-view+json": {
       "model_id": "431fb89aefb14561b27d3836f3e57730"
      }
     },
     "metadata": {},
     "output_type": "display_data"
    },
    {
     "name": "stdout",
     "output_type": "stream",
     "text": [
      "\n"
     ]
    }
   ],
   "source": [
    "# unsupervised case,one layer\n",
    "r=7\n",
    "n1,n2,n3 = X.shape\n",
    "\n",
    "num_trials = 10\n",
    "histories = []\n",
    "\n",
    "for i in range(num_trials):\n",
    "    \n",
    "    torch.manual_seed(i)\n",
    "\n",
    "    net = NNCPD([n1, 4, 2],[n2, 4, 2],[n3, 4, 2])\n",
    "    loss_func = Energy_Loss_Tensor()\n",
    "    h = train(net, X, loss_func, r, epoch = 7500, lr1 = 0, lr2 = 50)\n",
    "    histories.append(h)\n"
   ]
  },
  {
   "cell_type": "code",
   "execution_count": 6,
   "metadata": {},
   "outputs": [
    {
     "data": {
      "image/png": "[encoded data removed]",
      "text/plain": [
       "<Figure size 432x288 with 1 Axes>"
      ]
     },
     "metadata": {},
     "output_type": "display_data"
    }
   ],
   "source": [
    "# plot the loss curve\n",
    "histories[0].plot_scalar('loss')"
   ]
  },
  {
   "cell_type": "code",
   "execution_count": 7,
   "metadata": {},
   "outputs": [],
   "source": [
    "S_trues = get_synthetic_gt_topics()"
   ]
  },
  {
   "cell_type": "code",
   "execution_count": 8,
   "metadata": {},
   "outputs": [
    {
     "name": "stdout",
     "output_type": "stream",
     "text": [
      "Topic Modeling Loss 7 to 2 (average, best, worst): 0.04310424175371318 0.002637882416244456 0.2153776277997652\n",
      "Topic Modeling Loss 7 to 4 (average, best, worst): 0.04211838800164144 0.0023534462714323973 0.205795638325977\n",
      "Topic Modeling Loss 4 to 2 (average, best, worst): 0.04223941408098822 0.005845247203841973 0.2502222760931831\n",
      "\n",
      "Relative Recon Loss Rank 7 (average, best, worst): 0.09631970490841361 0.09631970490840853 0.09631970490841732\n",
      "Relative Recon Loss Rank 4 (average, best, worst): 0.2306551768042581 0.2171728210713715 0.3519589280455683\n",
      "Relative Recon Loss Rank 2 (average, best, worst): 0.53034785052147 0.5303409676047632 0.5303601632486924\n"
     ]
    }
   ],
   "source": [
    "all_topic_losses, all_recon_losses = measure_all(histories, X_np, S_trues, kind=\"Neural\")\n",
    "\n",
    "handle_losses(all_recon_losses, all_topic_losses)"
   ]
  },
  {
   "cell_type": "code",
   "execution_count": 21,
   "metadata": {},
   "outputs": [
    {
     "name": "stdout",
     "output_type": "stream",
     "text": [
      "Topic Modeling Loss 7 to 2 (average, best, worst): 0.04310424175371318 0.002637882416244456 0.2153776277997652\n",
      "Topic Modeling Loss 7 to 4 (average, best, worst): 0.04211838800164144 0.0023534462714323973 0.205795638325977\n",
      "Topic Modeling Loss 4 to 2 (average, best, worst): 0.04223941408098822 0.005845247203841973 0.2502222760931831\n",
      "\n",
      "Relative Recon Loss Rank 7 (average, best, worst): 0.1187897713361051 0.11878977133610057 0.11878977133610837\n",
      "Relative Recon Loss Rank 4 (average, best, worst): 0.2524510019193263 0.2385528113335064 0.3771243698510093\n",
      "Relative Recon Loss Rank 2 (average, best, worst): 0.5628380756843907 0.562687334654858 0.5632015113766597\n"
     ]
    }
   ],
   "source": [
    "all_topic_losses, all_recon_losses = measure_all(histories, X_original, S_trues, kind=\"Neural\")\n",
    "\n",
    "handle_losses(all_recon_losses, all_topic_losses)"
   ]
  },
  {
   "cell_type": "code",
   "execution_count": 9,
   "metadata": {},
   "outputs": [],
   "source": [
    "def standard_HNCPD(X, ranks, seed=0):\n",
    "    \n",
    "    np.random.seed(2)\n",
    "    factors_tl = non_negative_parafac(X, ranks[0])\n",
    "    \n",
    "    X_1 =  factors_tl[0]\n",
    "    X_2 =  factors_tl[1]\n",
    "    X_3 =  factors_tl[2]\n",
    "    \n",
    "    factors = [[X_1], [X_2], [X_3]]\n",
    "    \n",
    "    for i in range(1, len(ranks)):\n",
    "        r = ranks[i]\n",
    "        for j in range(3):\n",
    "            model = NMF(n_components=r, init='random', random_state=seed, max_iter=300, solver='mu')\n",
    "            A = model.fit_transform(factors[j][2*i-2])\n",
    "            S = model.components_\n",
    "\n",
    "            factors[j].append(A)\n",
    "            factors[j].append(S)\n",
    "            \n",
    "    return factors"
   ]
  },
  {
   "cell_type": "code",
   "execution_count": 10,
   "metadata": {},
   "outputs": [],
   "source": [
    "num_trials = 10\n",
    "all_factors = []\n",
    "for i in range(num_trials):\n",
    "    factors = standard_HNCPD(X_np, [7,4,2], seed=i)\n",
    "    all_factors.append(factors)"
   ]
  },
  {
   "cell_type": "code",
   "execution_count": 11,
   "metadata": {},
   "outputs": [
    {
     "name": "stdout",
     "output_type": "stream",
     "text": [
      "Topic Modeling Loss 7 to 2 (average, best, worst): 0.10575072361742997 0.009766357175004165 0.2843265404695422\n",
      "Topic Modeling Loss 7 to 4 (average, best, worst): 0.10093002773034329 0.008824998649549803 0.1987577306994643\n",
      "Topic Modeling Loss 4 to 2 (average, best, worst): 0.18925579316578658 0.014433730333846068 0.28436942439735485\n",
      "\n",
      "Relative Recon Loss Rank 7 (average, best, worst): 0.09631970490841418 0.09631970490840637 0.09631970490841901\n",
      "Relative Recon Loss Rank 4 (average, best, worst): 0.4682536676182603 0.46647599733882583 0.469993477149036\n",
      "Relative Recon Loss Rank 2 (average, best, worst): 0.8152656799281802 0.6491065026309738 0.9154293006189043\n"
     ]
    }
   ],
   "source": [
    "all_topic_losses, all_recon_losses = measure_all(all_factors, X_np, S_trues, kind=\"Standard\")\n",
    "\n",
    "handle_losses(all_recon_losses, all_topic_losses)"
   ]
  },
  {
   "cell_type": "code",
   "execution_count": 24,
   "metadata": {},
   "outputs": [
    {
     "name": "stdout",
     "output_type": "stream",
     "text": [
      "Topic Modeling Loss 7 to 2 (average, best, worst): 0.10575072361742997 0.009766357175004165 0.2843265404695422\n",
      "Topic Modeling Loss 7 to 4 (average, best, worst): 0.10093002773034329 0.008824998649549803 0.1987577306994643\n",
      "Topic Modeling Loss 4 to 2 (average, best, worst): 0.18925579316578658 0.014433730333846068 0.28436942439735485\n",
      "\n",
      "Relative Recon Loss Rank 7 (average, best, worst): 0.11878977133610555 0.11878977133609872 0.11878977133610986\n",
      "Relative Recon Loss Rank 4 (average, best, worst): 0.49406419039224597 0.4901545516898462 0.4968988292025292\n",
      "Relative Recon Loss Rank 2 (average, best, worst): 0.8277137602349078 0.6833347463432453 0.9178393156775861\n"
     ]
    }
   ],
   "source": [
    "all_topic_losses, all_recon_losses = measure_all(all_factors, X_original, S_trues, kind=\"Standard\")\n",
    "\n",
    "handle_losses(all_recon_losses, all_topic_losses)"
   ]
  },
  {
   "cell_type": "markdown",
   "metadata": {},
   "source": [
    "## Visualization"
   ]
  },
  {
   "cell_type": "code",
   "execution_count": 12,
   "metadata": {},
   "outputs": [],
   "source": [
    "X1 = np.asarray(histories[0].get('A_X1')[-1])\n",
    "X2 = np.asarray(histories[0].get('B_X1')[-1])\n",
    "X3 = np.asarray(histories[0].get('C_X1')[-1])\n",
    "\n",
    "\n",
    "A_A1 = np.asarray(histories[0].get('A_A1')[-1])\n",
    "A_S1 = np.asarray(histories[0].get('A_S1')[-1])\n",
    "B_A1 = np.asarray(histories[0].get('B_A1')[-1])\n",
    "B_S1 = np.asarray(histories[0].get('B_S1')[-1])\n",
    "C_A1 = np.asarray(histories[0].get('C_A1')[-1])\n",
    "C_S1 = np.asarray(histories[0].get('C_S1')[-1])\n",
    "\n",
    "A_A2 = np.asarray(histories[0].get('A_A2')[-1])\n",
    "A_S2 = np.asarray(histories[0].get('A_S2')[-1])\n",
    "B_A2 = np.asarray(histories[0].get('B_A2')[-1])\n",
    "B_S2 = np.asarray(histories[0].get('B_S2')[-1])\n",
    "C_A2 = np.asarray(histories[0].get('C_A2')[-1])\n",
    "C_S2 = np.asarray(histories[0].get('C_S2')[-1])\n"
   ]
  },
  {
   "cell_type": "markdown",
   "metadata": {},
   "source": [
    "### All models, Rank 7"
   ]
  },
  {
   "cell_type": "code",
   "execution_count": 13,
   "metadata": {},
   "outputs": [
    {
     "name": "stdout",
     "output_type": "stream",
     "text": [
      "Relative reconstruction loss: 0.0963197049084112\n"
     ]
    },
    {
     "data": {
      "image/png": "[encoded data removed]",
      "text/plain": [
       "<Figure size 864x360 with 3 Axes>"
      ]
     },
     "metadata": {},
     "output_type": "display_data"
    }
   ],
   "source": [
    "approx = outer_product_np(X1, X2, X3)\n",
    "print(\"Relative reconstruction loss:\", np.linalg.norm(np.ndarray.flatten(X_np-approx), 2)  / np.linalg.norm(np.ndarray.flatten(X_np), 2))\n",
    "display_tensor(approx)"
   ]
  },
  {
   "cell_type": "markdown",
   "metadata": {},
   "source": [
    "### Neural NCPD, Rank 4"
   ]
  },
  {
   "cell_type": "code",
   "execution_count": 14,
   "metadata": {},
   "outputs": [
    {
     "name": "stdout",
     "output_type": "stream",
     "text": [
      "Relative reconstruction loss: 0.21717879697975728\n"
     ]
    },
    {
     "data": {
      "image/png": "[encoded data removed]",
      "text/plain": [
       "<Figure size 864x360 with 3 Axes>"
      ]
     },
     "metadata": {},
     "output_type": "display_data"
    }
   ],
   "source": [
    "approx = outer_product_np(A_A1 @ A_S1, B_A1 @ B_S1, C_A1 @ C_S1)\n",
    "print(\"Relative reconstruction loss:\", np.linalg.norm(np.ndarray.flatten(X_np-approx), 2)  / np.linalg.norm(np.ndarray.flatten(X_np), 2))\n",
    "display_tensor(approx)"
   ]
  },
  {
   "cell_type": "markdown",
   "metadata": {},
   "source": [
    "### Neural NCPD, Rank 2"
   ]
  },
  {
   "cell_type": "code",
   "execution_count": 15,
   "metadata": {},
   "outputs": [
    {
     "name": "stdout",
     "output_type": "stream",
     "text": [
      "Relative reconstruction loss: 0.5303409676047632\n"
     ]
    },
    {
     "data": {
      "image/png": "[encoded data removed]",
      "text/plain": [
       "<Figure size 864x360 with 3 Axes>"
      ]
     },
     "metadata": {},
     "output_type": "display_data"
    }
   ],
   "source": [
    "approx = outer_product_np(A_A1 @ A_A2 @ A_S2, B_A1 @ B_A2 @ B_S2, C_A1 @ C_A2 @ C_S2)\n",
    "print(\"Relative reconstruction loss:\", np.linalg.norm(np.ndarray.flatten(X_np-approx), 2)  / np.linalg.norm(np.ndarray.flatten(X_np), 2))\n",
    "display_tensor(approx)"
   ]
  },
  {
   "cell_type": "code",
   "execution_count": 16,
   "metadata": {},
   "outputs": [
    {
     "data": {
      "image/png": "[encoded data removed]",
      "text/plain": [
       "<Figure size 576x360 with 6 Axes>"
      ]
     },
     "metadata": {},
     "output_type": "display_data"
    }
   ],
   "source": [
    "display_topic_matrices([A_S2.T, A_S1.T, A_A2], S_trues)"
   ]
  },
  {
   "cell_type": "markdown",
   "metadata": {},
   "source": [
    "### Standard HNCPD, Rank 4"
   ]
  },
  {
   "cell_type": "code",
   "execution_count": 17,
   "metadata": {},
   "outputs": [
    {
     "name": "stdout",
     "output_type": "stream",
     "text": [
      "Relative reconstruction loss: 0.4668036527196204\n"
     ]
    },
    {
     "data": {
      "image/png": "[encoded data removed]",
      "text/plain": [
       "<Figure size 864x360 with 3 Axes>"
      ]
     },
     "metadata": {},
     "output_type": "display_data"
    }
   ],
   "source": [
    "X1, A_A1, A_S1, A_A2, A_S2 = all_factors[0][0]\n",
    "X2, B_A1, B_S1, B_A2, B_S2 = all_factors[0][1]\n",
    "X3, C_A1, C_S1, C_A2, C_S2 = all_factors[0][2]\n",
    "\n",
    "approx = outer_product_np(A_A1 @ A_S1, B_A1 @ B_S1, C_A1 @ C_S1)\n",
    "print(\"Relative reconstruction loss:\", np.linalg.norm(np.ndarray.flatten(X_np-approx), 2)  / np.linalg.norm(np.ndarray.flatten(X_np), 2))\n",
    "display_tensor(approx)"
   ]
  },
  {
   "cell_type": "markdown",
   "metadata": {},
   "source": [
    "### Standard HNCPD, Rank 2"
   ]
  },
  {
   "cell_type": "code",
   "execution_count": 18,
   "metadata": {},
   "outputs": [
    {
     "name": "stdout",
     "output_type": "stream",
     "text": [
      "Relative reconstruction loss: 0.8020052038717367\n"
     ]
    },
    {
     "data": {
      "image/png": "[encoded data removed]",
      "text/plain": [
       "<Figure size 864x360 with 3 Axes>"
      ]
     },
     "metadata": {},
     "output_type": "display_data"
    }
   ],
   "source": [
    "approx = outer_product_np(A_A1 @ A_A2 @ A_S2, B_A1 @ B_A2 @ B_S2, C_A1 @ C_A2 @ C_S2)\n",
    "print(\"Relative reconstruction loss:\", np.linalg.norm(np.ndarray.flatten(X_np-approx), 2)  / np.linalg.norm(np.ndarray.flatten(X_np), 2))\n",
    "display_tensor(approx)"
   ]
  },
  {
   "cell_type": "code",
   "execution_count": 19,
   "metadata": {},
   "outputs": [
    {
     "data": {
      "image/png": "[encoded data removed]",
      "text/plain": [
       "<Figure size 576x360 with 6 Axes>"
      ]
     },
     "metadata": {},
     "output_type": "display_data"
    }
   ],
   "source": [
    "display_topic_matrices([A_S2.T, A_S1.T, A_A2], S_trues)"
   ]
  },
  {
   "cell_type": "markdown",
   "metadata": {},
   "source": [
    "### Dislay S_true matrices"
   ]
  },
  {
   "cell_type": "code",
   "execution_count": 25,
   "metadata": {},
   "outputs": [
    {
     "data": {
      "image/png": "[encoded data removed]",
      "text/plain": [
       "<Figure size 576x360 with 6 Axes>"
      ]
     },
     "metadata": {},
     "output_type": "display_data"
    }
   ],
   "source": [
    "display_topic_matrices(S_trues, S_trues)"
   ]
  }
 ],
 "metadata": {
  "kernelspec": {
   "display_name": "Python 3",
   "language": "python",
   "name": "python3"
  },
  "language_info": {
   "codemirror_mode": {
    "name": "ipython",
    "version": 3
   },
   "file_extension": ".py",
   "mimetype": "text/x-python",
   "name": "python",
   "nbconvert_exporter": "python",
   "pygments_lexer": "ipython3",
   "version": "3.7.4"
  }
 },
 "nbformat": 4,
 "nbformat_minor": 4
}
