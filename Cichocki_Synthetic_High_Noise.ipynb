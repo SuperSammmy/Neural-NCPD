{
 "cells": [
  {
   "cell_type": "markdown",
   "metadata": {},
   "source": [
    "## Details\n",
    "\n",
    "The notebook contains the synthetic data experiment with high noise (sigma^2 = 0.5) and low noise (sigma^2 = 00.5) for HNTF (Cichocki et al.). Due to the non-convexity of the HNCPD task, results will vary run to run, so the results from this notebook will not exactly match those in the paper."
   ]
  },
  {
   "cell_type": "code",
   "execution_count": 1,
   "metadata": {},
   "outputs": [
    {
     "name": "stderr",
     "output_type": "stream",
     "text": [
      "Using numpy backend.\n"
     ]
    }
   ],
   "source": [
    "# loading packages and functions\n",
    "import sys\n",
    "import itertools\n",
    "\n",
    "sys.path.append(\"./src\")\n",
    "import torch\n",
    "import numpy as np\n",
    "from matplotlib import pyplot as plt\n",
    "\n",
    "from NNCPD import outer_product, outer_product_np\n",
    "from utils import *\n",
    "#\n",
    "import torch.nn as nn\n",
    "from torch.autograd import Variable\n",
    "from writer import Writer\n",
    "\n",
    "from sklearn.decomposition import NMF\n",
    "\n",
    "import tensorly as tl\n",
    "from tensorly import unfold as tl_unfold\n",
    "from tensorly.decomposition import parafac, non_negative_parafac"
   ]
  },
  {
   "cell_type": "code",
   "execution_count": 2,
   "metadata": {},
   "outputs": [],
   "source": [
    "def cichocki(X, r, to_transpose=(0,1,2), seed=None):\n",
    "    \"\"\"\n",
    "    Given a 3-mode tensor X and a list of rank r, computes to Chichocki \n",
    "    \"\"\"\n",
    "    np.random.seed(1)\n",
    "    #factors = non_negative_parafac(X, r[0], n_iter_max=2000, tol=0)[1]\n",
    "\n",
    "    factors = non_negative_parafac(X, r[0])\n",
    "    A, D, S = factors[to_transpose[0]], factors[to_transpose[1]], factors[to_transpose[2]]\n",
    "    \n",
    "    factorizations = [[A, D, S]]\n",
    "    \n",
    "    for i in range(1, len(r)):\n",
    "        \n",
    "        #factors = non_negative_parafac(outer_product_np(np.identity(r[i-1]), D, S), r[i], n_iter_max=2000, tol=0)[1]\n",
    "        if type(seed) == type(None):\n",
    "            factors = non_negative_parafac(outer_product_np(np.identity(r[i-1]), D, S), r[i])\n",
    "        else:\n",
    "            factors = non_negative_parafac(outer_product_np(np.identity(r[i-1]), D, S), r[i], init=\"random\", random_state=seed)\n",
    "        A, D, S = factors[0], factors[1], factors[2]\n",
    "        factorizations.append([A,D,S])\n",
    "        \n",
    "    return factorizations  "
   ]
  },
  {
   "cell_type": "code",
   "execution_count": 3,
   "metadata": {},
   "outputs": [],
   "source": [
    "def run_cichocki_factorization(X, ranks, S_trues, to_transpose=(0,1,2), X_orig=None, seed=None, verbose=True, display=True):#, S_true=None, S_func=S_func_1):\n",
    "    \n",
    "    factorizations = cichocki(X, ranks, to_transpose=to_transpose, seed=seed)\n",
    "    \n",
    "    X = np.transpose(X, to_transpose)\n",
    "    \n",
    "    if X_orig is not None:\n",
    "        X_orig = np.transpose(X_orig, to_transpose)\n",
    "    \n",
    "    recon_losses = []\n",
    "    recon_losses_orig = []\n",
    "    topic_losses = []\n",
    "    \n",
    "    for i in range(len(factorizations)):\n",
    "\n",
    "        A = factorizations[0][0]\n",
    "        for j in range(1, i+1):\n",
    "            A = A @ factorizations[j][0]\n",
    "\n",
    "        _, D, S = factorizations[i]\n",
    "\n",
    "        approx = outer_product_np(A,D,S)\n",
    "\n",
    "        relative_loss = np.linalg.norm(np.ndarray.flatten(X-approx), 2)  / np.linalg.norm(np.ndarray.flatten(X), 2)\n",
    "        \n",
    "        if X_orig is not None:\n",
    "            relative_loss_orig = np.linalg.norm(np.ndarray.flatten(X_orig-approx), 2)  / np.linalg.norm(np.ndarray.flatten(X_orig), 2)\n",
    "            recon_losses_orig.append(relative_loss_orig)\n",
    "        \n",
    "        if(verbose):\n",
    "            print(\"Layer\", i+1, \"Relative reconstruction loss:\", relative_loss)\n",
    "\n",
    "        recon_losses.append(relative_loss)\n",
    "\n",
    "        if(display):\n",
    "            display_tensor(approx, figsize=(8,4))\n",
    "      \n",
    "    Ss = [factorizations[1][0] @ factorizations[2][0], factorizations[1][0], factorizations[2][0]]\n",
    "    for i, S in enumerate(Ss):\n",
    "\n",
    "        best_value = measure_modeling((S.T / np.sum(S, axis=1)).T, S_trues[i])\n",
    "        topic_losses.append(best_value)\n",
    "        \n",
    "        best_value, best_i, best_j = find_fit((S.T / np.sum(S, axis=1)).T, S_trues[i])\n",
    "            \n",
    "    if(display):\n",
    "        display_topic_matrices(Ss, S_trues)\n",
    "\n",
    "    if X_orig is not None:\n",
    "        return recon_losses, recon_losses_orig, topic_losses\n",
    "    else:\n",
    "        return recon_losses, topic_losses"
   ]
  },
  {
   "cell_type": "code",
   "execution_count": 4,
   "metadata": {},
   "outputs": [],
   "source": [
    "def handle_losses_cichocki(recon, topic):\n",
    "    \n",
    "    #average_recons = np.mean(recon, axis=1)\n",
    "    #average_topics = np.mean(topic, axis=1)\n",
    "\n",
    "    average_recons = np.mean(np.mean(recon.reshape((3, 10, 3, 2)), axis=3), axis=1)\n",
    "    average_topics = np.mean(np.mean(topic.reshape((3, 10, 3, 2)), axis=3), axis=1)\n",
    "    \n",
    "    for i in range(3):\n",
    "    \n",
    "        print(\"Topic Modeling Loss 7 to 2 (average, best, worst):\", average_topics[0][i])\n",
    "        print(\"Topic Modeling Loss 7 to 4 (average, best, worst):\", average_topics[1][i])\n",
    "        print(\"Topic Modeling Loss 4 to 2 (average, best, worst):\", average_topics[2][i])\n",
    "        print(\"\")\n",
    "        print(\"Relative Recon Loss Rank 7 (average, best, worst):\", average_recons[0][i])\n",
    "        print(\"Relative Recon Loss Rank 4 (average, best, worst):\", average_recons[1][i])\n",
    "        print(\"Relative Recon Loss Rank 2 (average, best, worst):\", average_recons[2][i])\n",
    "        print(\"\")\n"
   ]
  },
  {
   "cell_type": "markdown",
   "metadata": {},
   "source": [
    "## Generate Data Tensor (Low Noise)"
   ]
  },
  {
   "cell_type": "code",
   "execution_count": 5,
   "metadata": {},
   "outputs": [],
   "source": [
    "X = get_synthetic_tensor(seed=14, noise=0.4)\n",
    "X_original = get_synthetic_tensor(noise=0)"
   ]
  },
  {
   "cell_type": "markdown",
   "metadata": {},
   "source": [
    "### Visualize Original Data Tensor"
   ]
  },
  {
   "cell_type": "code",
   "execution_count": 6,
   "metadata": {},
   "outputs": [
    {
     "data": {
      "image/png": "[encoded data removed]",
      "text/plain": [
       "<Figure size 864x360 with 3 Axes>"
      ]
     },
     "metadata": {},
     "output_type": "display_data"
    }
   ],
   "source": [
    "display_tensor(X)"
   ]
  },
  {
   "cell_type": "code",
   "execution_count": 7,
   "metadata": {},
   "outputs": [],
   "source": [
    "S_trues = get_synthetic_gt_topics()"
   ]
  },
  {
   "cell_type": "code",
   "execution_count": 8,
   "metadata": {},
   "outputs": [],
   "source": [
    "num_trials = 10\n",
    "transposes = [(0,1,2), (0,2,1), (1,0,2), (1,2,0), (2,0,1), (2,1,0)]\n",
    "ranks = [7,4,2]\n",
    "\n",
    "all_recon_losses = np.empty((len(ranks), num_trials, len(transposes)))\n",
    "all_recon_losses_orig = np.empty((len(ranks), num_trials, len(transposes)))\n",
    "all_topic_losses = np.empty((len(ranks), num_trials, len(transposes)))\n",
    "for i in range(num_trials):\n",
    "    for j, t in enumerate(transposes):\n",
    "        recon_losses, recon_losses_orig, topic_losses = run_cichocki_factorization(X, ranks, S_trues, to_transpose = t, X_orig = X_original, seed=i, verbose=False, display=False)\n",
    "        all_recon_losses[:,i,j] = np.asarray(recon_losses)\n",
    "        all_recon_losses_orig[:,i,j] = np.asarray(recon_losses_orig)\n",
    "        all_topic_losses[:,i,j] = np.asarray(topic_losses)"
   ]
  },
  {
   "cell_type": "code",
   "execution_count": 9,
   "metadata": {},
   "outputs": [
    {
     "name": "stdout",
     "output_type": "stream",
     "text": [
      "Topic Modeling Loss 7 to 2 (average, best, worst): 0.1713591307278673\n",
      "Topic Modeling Loss 7 to 4 (average, best, worst): 0.14362339998429072\n",
      "Topic Modeling Loss 4 to 2 (average, best, worst): 0.16985001806016436\n",
      "\n",
      "Relative Recon Loss Rank 7 (average, best, worst): 0.45432993797409227\n",
      "Relative Recon Loss Rank 4 (average, best, worst): 0.5755356801811189\n",
      "Relative Recon Loss Rank 2 (average, best, worst): 0.7807949448565038\n",
      "\n",
      "Topic Modeling Loss 7 to 2 (average, best, worst): 0.09023680913570852\n",
      "Topic Modeling Loss 7 to 4 (average, best, worst): 0.11633681279957198\n",
      "Topic Modeling Loss 4 to 2 (average, best, worst): 0.14161715796962507\n",
      "\n",
      "Relative Recon Loss Rank 7 (average, best, worst): 0.45432993797409454\n",
      "Relative Recon Loss Rank 4 (average, best, worst): 0.5869734002494331\n",
      "Relative Recon Loss Rank 2 (average, best, worst): 0.7653047704922201\n",
      "\n",
      "Topic Modeling Loss 7 to 2 (average, best, worst): 0.08350453695236079\n",
      "Topic Modeling Loss 7 to 4 (average, best, worst): 0.11078673456943906\n",
      "Topic Modeling Loss 4 to 2 (average, best, worst): 0.1643179830333049\n",
      "\n",
      "Relative Recon Loss Rank 7 (average, best, worst): 0.4543299379740894\n",
      "Relative Recon Loss Rank 4 (average, best, worst): 0.5600149649444285\n",
      "Relative Recon Loss Rank 2 (average, best, worst): 0.7465277676935859\n",
      "\n"
     ]
    }
   ],
   "source": [
    "handle_losses_cichocki(all_recon_losses_orig, all_topic_losses)"
   ]
  },
  {
   "cell_type": "code",
   "execution_count": 10,
   "metadata": {},
   "outputs": [
    {
     "name": "stdout",
     "output_type": "stream",
     "text": [
      "Layer 1 Relative reconstruction loss: 0.2774291903373395\n"
     ]
    },
    {
     "data": {
      "image/png": "[encoded data removed]",
      "text/plain": [
       "<Figure size 576x288 with 3 Axes>"
      ]
     },
     "metadata": {},
     "output_type": "display_data"
    },
    {
     "name": "stdout",
     "output_type": "stream",
     "text": [
      "Layer 2 Relative reconstruction loss: 0.42423269714704986\n"
     ]
    },
    {
     "data": {
      "image/png": "[encoded data removed]",
      "text/plain": [
       "<Figure size 576x288 with 3 Axes>"
      ]
     },
     "metadata": {},
     "output_type": "display_data"
    },
    {
     "name": "stdout",
     "output_type": "stream",
     "text": [
      "Layer 3 Relative reconstruction loss: 0.7441611122856939\n"
     ]
    },
    {
     "data": {
      "image/png": "[encoded data removed]",
      "text/plain": [
       "<Figure size 576x288 with 3 Axes>"
      ]
     },
     "metadata": {},
     "output_type": "display_data"
    },
    {
     "data": {
      "image/png": "[encoded data removed]",
      "text/plain": [
       "<Figure size 576x360 with 6 Axes>"
      ]
     },
     "metadata": {},
     "output_type": "display_data"
    },
    {
     "data": {
      "text/plain": [
       "([0.2774291903373395, 0.42423269714704986, 0.7441611122856939],\n",
       " [0.2036617276441755, 0.14894673309860393, 0.1173055591837687])"
      ]
     },
     "execution_count": 10,
     "metadata": {},
     "output_type": "execute_result"
    }
   ],
   "source": [
    "run_cichocki_factorization(X, ranks, S_trues, seed=0)"
   ]
  },
  {
   "cell_type": "code",
   "execution_count": null,
   "metadata": {},
   "outputs": [],
   "source": []
  }
 ],
 "metadata": {
  "kernelspec": {
   "display_name": "Python 3",
   "language": "python",
   "name": "python3"
  },
  "language_info": {
   "codemirror_mode": {
    "name": "ipython",
    "version": 3
   },
   "file_extension": ".py",
   "mimetype": "text/x-python",
   "name": "python",
   "nbconvert_exporter": "python",
   "pygments_lexer": "ipython3",
   "version": "3.7.4"
  }
 },
 "nbformat": 4,
 "nbformat_minor": 4
}
